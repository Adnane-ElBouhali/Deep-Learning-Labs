{
  "cells": [
    {
      "cell_type": "markdown",
      "metadata": {
        "id": "WpYK9fIlyZCq"
      },
      "source": [
        "# Lab Deep Learning / Multi-Layer Perceptron for classification / in pytorch\n",
        "\n",
        "**Author: geoffroy.peeters@telecom-paris.fr**\n",
        "\n",
        "For any remark or suggestion, please feel free to contact me.\n",
        "\n",
        "Last edit: 2020/04/27 peeters\n",
        "\n",
        "Read the \"introduction to pytorch\" slides first: https://perso.telecom-paristech.fr/gpeeters/doc/pytorch/\n",
        "\n",
        "**Is is recommended that you first perform the ```Lab Deep Learning / Multi-Layer Perceptron for regression / in pytorch``` Lab to understand how to write a Neural Network in pytorch.**\n",
        "\n",
        "\n",
        "## Objective:\n",
        "\n",
        "The objective of this lab is to develop a two hidden layers MLP to perform image **classification**.\n",
        "\n",
        "While the previous Lab ```Lab Deep Learning / Multi-Layer Perceptron for regression / in pytorch``` focused on how to write a Neural Network, the present Lab focuses on managing datasets and splitting training and testing .\n",
        "\n",
        "We will use MNIST for the image dataset.\n",
        "\n",
        "## Your task:\n",
        "\n",
        "You need to add the missing parts in the code (parts between ```# --- START CODE HERE``` and ```# --- END CODE HERE```)\n",
        "\n",
        "## Documentation:\n",
        "- NN: https://pytorch.org/docs/stable/nn.html\n",
        "- Autograd: https://pytorch.org/docs/stable/autograd.html\n",
        "- Optim: https://pytorch.org/docs/stable/optim.html\n"
      ]
    },
    {
      "cell_type": "code",
      "execution_count": 1,
      "metadata": {
        "id": "h6o3NZfNyZCt"
      },
      "outputs": [],
      "source": [
        "import torch\n",
        "import torch.nn as nn\n",
        "import torch.nn.functional as F\n",
        "import torch.optim as optim\n",
        "from torchvision import datasets, transforms\n",
        "import matplotlib.pyplot as plt"
      ]
    },
    {
      "cell_type": "markdown",
      "metadata": {
        "id": "Vy7u-IVkyZCu"
      },
      "source": [
        "## Data management\n",
        "\n",
        "It is common to separate the datasets into\n",
        "- a **training** part (used to find the network parameters which minimize the loss)\n",
        "- a **test part** (used to estimate the performances).\n",
        "\n",
        "The training part can itself be further splitted into a training and a validation part (the validation part is then used to fix the hyper-parameters of the system).\n",
        "\n",
        "When performing ```batch gradient descent``` the whole training set is used to compute the gradients (which itself is used for the parameter optimization).\n",
        "However when performing ```stochastic or mini-batch gradient descent``` only a part of the training data is used at each iteration.\n",
        "\n",
        "We therefore needs to write all the necessary code, to get these mini-batches of data, be sure that all data have been seen, potentially randomize the order of appearance of these data and potentially perform some modifications of the data before giving them to the network.\n",
        "\n",
        "Fortunatelly, pytorch has associated to it (but not included in it) a nice package (```torchvision```) which allows to do all that for us.\n",
        "\n",
        "This package allows to perform these process for any datasets but has a pre-tuned method for the ```MNIST```datasets.\n",
        "\n",
        "### Datasets\n",
        "\n",
        "In the following we will us ```datasets.MNIST``` to load the train and test data.\n",
        "\n",
        "We need to tell it to download the data, where to dowload them and if we want the training or the testing part of it.\n",
        "\n",
        "We then tell it if we want to apply some transformations to the data.\n",
        "\n",
        "For this lab, we will transform the data by\n",
        "- 1) transforming them to torch tensors (using ```transforms.ToTensor()```); since by default they are not torch tensors\n",
        "- 2) normalize them to zero mean and unit standard deviation (using ```transforms.Normalize()```).\n",
        "\n",
        "It is of course possible to also apply data augmentation.\n",
        "\n",
        "Since we have several transforms to be performed, we will compose them using ```transforms.Compose([transform1, transform2])```\n",
        "\n",
        "The corresponding datasets is a class which contains the pairs of [input tensors $X$, corresponding ground-truth label $y$].\n",
        "\n",
        "### Dataloader\n",
        "\n",
        "Another nice pytorch facility is the ```Dataloader``` which transforms the dataset to be used as an iterator (i.e. within ```for data in myDataloader: ```).\n",
        "\n",
        "Moreover, ```Dataloader``` allows to specify\n",
        "- how many data will be provided each time it is called (```batch_size```)\n",
        "- if the order of appearance of the data with be random (````shuffle````).\n",
        "\n",
        "We therefore convert our datasets (train and test) to ```DataLoader``` that are directly used as iterator during the iterations (it DataLoader manage directly the mini-batch and shuffling)."
      ]
    },
    {
      "cell_type": "code",
      "execution_count": 2,
      "metadata": {
        "id": "zsSEvakPyZCv",
        "outputId": "d3530f16-521f-4837-f768-9ff54a6b13c9",
        "colab": {
          "base_uri": "https://localhost:8080/"
        }
      },
      "outputs": [
        {
          "output_type": "stream",
          "name": "stdout",
          "text": [
            "Downloading http://yann.lecun.com/exdb/mnist/train-images-idx3-ubyte.gz\n",
            "Failed to download (trying next):\n",
            "HTTP Error 403: Forbidden\n",
            "\n",
            "Downloading https://ossci-datasets.s3.amazonaws.com/mnist/train-images-idx3-ubyte.gz\n",
            "Downloading https://ossci-datasets.s3.amazonaws.com/mnist/train-images-idx3-ubyte.gz to ./data/MNIST/raw/train-images-idx3-ubyte.gz\n"
          ]
        },
        {
          "output_type": "stream",
          "name": "stderr",
          "text": [
            "100%|██████████| 9912422/9912422 [00:00<00:00, 53144395.93it/s]\n"
          ]
        },
        {
          "output_type": "stream",
          "name": "stdout",
          "text": [
            "Extracting ./data/MNIST/raw/train-images-idx3-ubyte.gz to ./data/MNIST/raw\n",
            "\n",
            "Downloading http://yann.lecun.com/exdb/mnist/train-labels-idx1-ubyte.gz\n",
            "Failed to download (trying next):\n",
            "HTTP Error 403: Forbidden\n",
            "\n",
            "Downloading https://ossci-datasets.s3.amazonaws.com/mnist/train-labels-idx1-ubyte.gz\n",
            "Downloading https://ossci-datasets.s3.amazonaws.com/mnist/train-labels-idx1-ubyte.gz to ./data/MNIST/raw/train-labels-idx1-ubyte.gz\n"
          ]
        },
        {
          "output_type": "stream",
          "name": "stderr",
          "text": [
            "100%|██████████| 28881/28881 [00:00<00:00, 11181068.29it/s]\n"
          ]
        },
        {
          "output_type": "stream",
          "name": "stdout",
          "text": [
            "Extracting ./data/MNIST/raw/train-labels-idx1-ubyte.gz to ./data/MNIST/raw\n",
            "\n",
            "Downloading http://yann.lecun.com/exdb/mnist/t10k-images-idx3-ubyte.gz\n",
            "Failed to download (trying next):\n",
            "HTTP Error 403: Forbidden\n",
            "\n",
            "Downloading https://ossci-datasets.s3.amazonaws.com/mnist/t10k-images-idx3-ubyte.gz\n",
            "Downloading https://ossci-datasets.s3.amazonaws.com/mnist/t10k-images-idx3-ubyte.gz to ./data/MNIST/raw/t10k-images-idx3-ubyte.gz\n"
          ]
        },
        {
          "output_type": "stream",
          "name": "stderr",
          "text": [
            "100%|██████████| 1648877/1648877 [00:00<00:00, 48623334.76it/s]\n"
          ]
        },
        {
          "output_type": "stream",
          "name": "stdout",
          "text": [
            "Extracting ./data/MNIST/raw/t10k-images-idx3-ubyte.gz to ./data/MNIST/raw\n",
            "\n",
            "Downloading http://yann.lecun.com/exdb/mnist/t10k-labels-idx1-ubyte.gz\n",
            "Failed to download (trying next):\n",
            "HTTP Error 403: Forbidden\n",
            "\n",
            "Downloading https://ossci-datasets.s3.amazonaws.com/mnist/t10k-labels-idx1-ubyte.gz\n",
            "Downloading https://ossci-datasets.s3.amazonaws.com/mnist/t10k-labels-idx1-ubyte.gz to ./data/MNIST/raw/t10k-labels-idx1-ubyte.gz\n"
          ]
        },
        {
          "output_type": "stream",
          "name": "stderr",
          "text": [
            "100%|██████████| 4542/4542 [00:00<00:00, 4984439.76it/s]"
          ]
        },
        {
          "output_type": "stream",
          "name": "stdout",
          "text": [
            "Extracting ./data/MNIST/raw/t10k-labels-idx1-ubyte.gz to ./data/MNIST/raw\n",
            "\n"
          ]
        },
        {
          "output_type": "stream",
          "name": "stderr",
          "text": [
            "\n"
          ]
        }
      ],
      "source": [
        "# --- START CODE HERE\n",
        "# Define the transformations to be applied to the data\n",
        "transform = transforms.Compose([\n",
        "    transforms.ToTensor(),\n",
        "    transforms.Normalize((0.1307,), (0.3081,))  # MNIST mean and std\n",
        "])\n",
        "\n",
        "# Load the training set\n",
        "train_set = datasets.MNIST(root='./data', train=True, download=True, transform=transform)\n",
        "train_loader = torch.utils.data.DataLoader(train_set, batch_size=64, shuffle=True)\n",
        "\n",
        "# Load the test set\n",
        "test_set = datasets.MNIST(root='./data', train=False, download=True, transform=transform)\n",
        "test_loader = torch.utils.data.DataLoader(test_set, batch_size=1000, shuffle=False)\n",
        "# --- END CODE HERE"
      ]
    },
    {
      "cell_type": "code",
      "execution_count": 3,
      "metadata": {
        "id": "FFuEXr0tyZCw",
        "outputId": "a025cdd0-2c1a-4935-d7e3-ca9cfccd1831",
        "colab": {
          "base_uri": "https://localhost:8080/"
        }
      },
      "outputs": [
        {
          "output_type": "stream",
          "name": "stdout",
          "text": [
            "dataset type: <class 'torchvision.datasets.mnist.MNIST'>\n",
            "dataset size: 60000\n",
            "X data: torch.Size([1, 28, 28])\n",
            "y data: 5\n"
          ]
        }
      ],
      "source": [
        "print(\"dataset type: {}\".format(type(train_set)))\n",
        "print(\"dataset size: {}\".format(len(train_set)))\n",
        "print(\"X data: {}\".format(train_set[0][0].size()))\n",
        "print(\"y data: {}\".format(train_set[0][1]))"
      ]
    },
    {
      "cell_type": "markdown",
      "metadata": {
        "id": "piAf25dxyZCx"
      },
      "source": [
        "### Display the first 5 data of MNIST dataset."
      ]
    },
    {
      "cell_type": "code",
      "execution_count": 4,
      "metadata": {
        "id": "Jsa2MAEhyZCx",
        "outputId": "edbafe2c-63b8-4613-d59a-d7d16b8924b1",
        "colab": {
          "base_uri": "https://localhost:8080/",
          "height": 168
        }
      },
      "outputs": [
        {
          "output_type": "display_data",
          "data": {
            "text/plain": [
              "<Figure size 640x480 with 5 Axes>"
            ],
            "image/png": "[encoded data removed]"
          },
          "metadata": {}
        }
      ],
      "source": [
        "# ------------------------------------\n",
        "for num in range(0,5):\n",
        "    one_data = next(iter(train_loader))\n",
        "    plt.subplot(1,5,num+1)\n",
        "    plt.imshow(one_data[0][0][0,:,:])\n",
        "    plt.title(one_data[1][0].item())"
      ]
    },
    {
      "cell_type": "markdown",
      "metadata": {
        "id": "bo6-KX8UyZCy"
      },
      "source": [
        "## Network setting\n",
        "\n",
        "While image classification, is usually performed using Convolutional Neural Networks, we will use here a Multi-Layer-Perceptron (also named ```fully-connected```).\n",
        "For this, we will flatten (i.e. convert the iamge 2D matrix to a 1D vector) the input images.\n",
        "\n",
        "- The input images are of size 28*28 and are converted to vectors of size ```n_in```=784.\n",
        "\n",
        "- The two hidden layers have````n_h1````=500 and ```n_h2```=256 unit/neurons each and ```Relu```activations.\n",
        "\n",
        "- The output are the ```n_out```=10 classes (the 10 digits to be recognized).\n",
        "\n",
        "Since we deal with a muti-class problem (10 classes), the output activations is therefore a ```softmax```.\n",
        "\n",
        "Note that since the ```softmax```output will be given to a ```cross-entropy```, the ```log```et the latter can be directly added to the ```softmax```. This leads to the pytorch function ```F.log_softmax```.\n"
      ]
    },
    {
      "cell_type": "code",
      "execution_count": 9,
      "metadata": {
        "id": "H0uIIQb9yZCy"
      },
      "outputs": [],
      "source": [
        "class Net(nn.Module):\n",
        "    def __init__(self):\n",
        "        n_in = 28*28\n",
        "        n_h1 = 500\n",
        "        n_h2 = 256\n",
        "        n_out = 10\n",
        "        super(Net, self).__init__()\n",
        "        # --- START CODE HERE\n",
        "        # Define the layers\n",
        "        self.fc1 = nn.Linear(n_in, n_h1)  # First fully connected layer\n",
        "        self.fc2 = nn.Linear(n_h1, n_h2)  # Second fully connected layer\n",
        "        self.fc3 = nn.Linear(n_h2, n_out)  # Output layer\n",
        "        # --- END CODE HERE\n",
        "    def forward(self, x):\n",
        "        # --- START CODE HERE\n",
        "        x = x.view(-1, 28 * 28)  # Flatten the input images to a 1D vector\n",
        "        x = F.relu(self.fc1(x))  # Apply ReLU activation after the first layer\n",
        "        x = F.relu(self.fc2(x))  # Apply ReLU activation after the second layer\n",
        "        x = self.fc3(x)  # Output layer (no activation applied here, since log_softmax is applied later)\n",
        "        # --- END CODE HERE\n",
        "        return F.log_softmax(x, dim=1)"
      ]
    },
    {
      "cell_type": "markdown",
      "metadata": {
        "id": "x7qcgKFwyZCz"
      },
      "source": [
        "## Defining the train and test functions\n",
        "\n",
        "In the present lab, we distinguish between train and test data.\n",
        "We therefore write\n",
        "- a train function (to learn the network parameters on the train data),\n",
        "- a test function (to evaluate the network's performances on the test data).\n",
        "\n",
        "The ```train``` and ```test```function will perform the computation for a given ```epoch```.\n",
        "The functions therefore only need to ```loop over``` the mini-batches.\n",
        "This is now easy since we defined our ```Dataloader```for train and test.\n",
        "\n",
        "For the train function, for each mini-batch, we  \n",
        "- compute the forward pass by passing the data to the model: haty = model(x)\n",
        "- compute the the loss (the criterion)\n",
        "- putting at zero the gradients of all the parameters of the network (this is important since, by default, pytorch accumulate the gradients over time)\n",
        "- computing the backpropagation (using as before .backward())\n",
        "- performing one step of optimization (using .step())\n",
        "\n",
        "For the train function, we set the model to train mode (```model.train()```). This allows to set some specific behaviours for training (such as activate the dropout).\n",
        "\n",
        "For the test function, we set the model to train mode (```model.eval()```). This allows to set some specific behaviours for training (such as removing the dropout).\n",
        "\n",
        "\n",
        "Since we are dealing with a multi-class problem (10 classes), we will minimize as loss the ```cross-entropy``` (named negative-log-likelihood ```nll_loss```in pytorch).\n",
        "Since ```nll_loss```does not contains the ```log``` we have added it directly to the softmax by using the ```log_softmax```as output activation of our network.\n",
        "\n",
        "Note that we could use the loss from the nn package (```torch.nn.NLLLoss```) it is then a class which needs to be first instanciated.\n",
        "We can also use the same but as a function (```F.nll_loss()```) which can be used directly without instanciating the class."
      ]
    },
    {
      "cell_type": "code",
      "execution_count": 10,
      "metadata": {
        "id": "3dGuPt96yZCz"
      },
      "outputs": [],
      "source": [
        "def train(model, train_loader, optimizer, epoch):\n",
        "    model.train()\n",
        "    for batch_idx, (data, target) in enumerate(train_loader):\n",
        "        # --- START CODE HERE\n",
        "        optimizer.zero_grad()  # Zero the gradients\n",
        "        output = model(data)  # Forward pass: Compute predicted y by passing data to the model\n",
        "        loss = F.nll_loss(output, target)  # Compute the loss\n",
        "        loss.backward()  # Backward pass: Compute the gradients\n",
        "        optimizer.step()  # Update model parameters\n",
        "        # --- END CODE HERE\n",
        "\n",
        "        if batch_idx % 100 == 0:\n",
        "            print('epoch {}, loss {}'.format(epoch, loss.item()))"
      ]
    },
    {
      "cell_type": "code",
      "execution_count": 11,
      "metadata": {
        "id": "zI8QtzV2yZC0"
      },
      "outputs": [],
      "source": [
        "def test(model, test_loader):\n",
        "    model.eval()\n",
        "    test_loss = 0\n",
        "    correct = 0\n",
        "    with torch.no_grad():\n",
        "        for data, target in test_loader:\n",
        "            # --- START CODE HERE\n",
        "            output = model(data)  # Forward pass: Compute predicted y\n",
        "            test_loss += F.nll_loss(output, target, reduction='sum').item()  # Sum up batch loss\n",
        "            pred = output.argmax(dim=1, keepdim=True)  # Get the index of the max log-probability\n",
        "            correct += pred.eq(target.view_as(pred)).sum().item()  # Count correct predictions\n",
        "            # --- STOP CODE HERE\n",
        "\n",
        "    test_loss /= len(test_loader.dataset)\n",
        "    correct /= len(test_loader.dataset)\n",
        "    print('\\nTest set: Average loss: {}, Accuracy: {}\\n'.format(test_loss, correct))"
      ]
    },
    {
      "cell_type": "markdown",
      "metadata": {
        "id": "9MXQIbcJyZC0"
      },
      "source": [
        "## Looping over epochs\n",
        "\n",
        "\n",
        "We finally define, how we will optimize our parameters by defining an optimizer.\n",
        "We will use here a very simple one: the SGD (```optim.SGD```) with a learning rate of 0.01.\n",
        "\n",
        "At each iteration, we then call the train and the test function."
      ]
    },
    {
      "cell_type": "code",
      "execution_count": 12,
      "metadata": {
        "id": "ofYcX05ZyZC0",
        "outputId": "0cc51ae3-a639-4e3c-d689-99ef5c8fc83a",
        "colab": {
          "base_uri": "https://localhost:8080/"
        }
      },
      "outputs": [
        {
          "output_type": "stream",
          "name": "stdout",
          "text": [
            "epoch 1, loss 2.286238670349121\n",
            "epoch 1, loss 0.26023006439208984\n",
            "epoch 1, loss 0.23570023477077484\n",
            "epoch 1, loss 0.20812948048114777\n",
            "epoch 1, loss 0.23439498245716095\n",
            "epoch 1, loss 0.17359288036823273\n",
            "epoch 1, loss 0.28063493967056274\n",
            "epoch 1, loss 0.15846019983291626\n",
            "epoch 1, loss 0.17458201944828033\n",
            "epoch 1, loss 0.08243150264024734\n",
            "\n",
            "Test set: Average loss: 0.11445298385620117, Accuracy: 0.9628\n",
            "\n",
            "epoch 2, loss 0.14077718555927277\n",
            "epoch 2, loss 0.1932806521654129\n",
            "epoch 2, loss 0.17321179807186127\n",
            "epoch 2, loss 0.1130935475230217\n",
            "epoch 2, loss 0.065325066447258\n",
            "epoch 2, loss 0.06022236496210098\n",
            "epoch 2, loss 0.25599145889282227\n",
            "epoch 2, loss 0.07442046701908112\n",
            "epoch 2, loss 0.1172141507267952\n",
            "epoch 2, loss 0.02429201453924179\n",
            "\n",
            "Test set: Average loss: 0.08633749313354493, Accuracy: 0.9716\n",
            "\n",
            "epoch 3, loss 0.09592068940401077\n",
            "epoch 3, loss 0.01304813101887703\n",
            "epoch 3, loss 0.06875927746295929\n",
            "epoch 3, loss 0.10715131461620331\n",
            "epoch 3, loss 0.05099787563085556\n",
            "epoch 3, loss 0.057629168033599854\n",
            "epoch 3, loss 0.04688066244125366\n",
            "epoch 3, loss 0.04413304477930069\n",
            "epoch 3, loss 0.05489005893468857\n",
            "epoch 3, loss 0.05615749582648277\n",
            "\n",
            "Test set: Average loss: 0.0832744197845459, Accuracy: 0.9719\n",
            "\n",
            "epoch 4, loss 0.053967200219631195\n",
            "epoch 4, loss 0.010643724352121353\n",
            "epoch 4, loss 0.018801694735884666\n",
            "epoch 4, loss 0.06069587543606758\n",
            "epoch 4, loss 0.0839129164814949\n",
            "epoch 4, loss 0.008851093240082264\n",
            "epoch 4, loss 0.012666142545640469\n",
            "epoch 4, loss 0.051828544586896896\n",
            "epoch 4, loss 0.042374156415462494\n",
            "epoch 4, loss 0.04920797422528267\n",
            "\n",
            "Test set: Average loss: 0.06334734764099122, Accuracy: 0.9795\n",
            "\n",
            "epoch 5, loss 0.026209555566310883\n",
            "epoch 5, loss 0.01759984903037548\n",
            "epoch 5, loss 0.0357438288629055\n",
            "epoch 5, loss 0.006137034390121698\n",
            "epoch 5, loss 0.007974195294082165\n",
            "epoch 5, loss 0.004425926599651575\n",
            "epoch 5, loss 0.028248552232980728\n",
            "epoch 5, loss 0.02276194654405117\n",
            "epoch 5, loss 0.06287955492734909\n",
            "epoch 5, loss 0.03769692778587341\n",
            "\n",
            "Test set: Average loss: 0.06111208429336548, Accuracy: 0.9809\n",
            "\n",
            "epoch 6, loss 0.004351223818957806\n",
            "epoch 6, loss 0.021150119602680206\n",
            "epoch 6, loss 0.0031907251104712486\n",
            "epoch 6, loss 0.00393627118319273\n",
            "epoch 6, loss 0.04158567637205124\n",
            "epoch 6, loss 0.012948927469551563\n",
            "epoch 6, loss 0.04451650381088257\n",
            "epoch 6, loss 0.01038533914834261\n",
            "epoch 6, loss 0.015143554657697678\n",
            "epoch 6, loss 0.0758478194475174\n",
            "\n",
            "Test set: Average loss: 0.07956787319183349, Accuracy: 0.9766\n",
            "\n",
            "epoch 7, loss 0.00971374660730362\n",
            "epoch 7, loss 0.018519610166549683\n",
            "epoch 7, loss 0.0034626524429768324\n",
            "epoch 7, loss 0.004391135647892952\n",
            "epoch 7, loss 0.0032113036140799522\n",
            "epoch 7, loss 0.006173037923872471\n",
            "epoch 7, loss 0.011052868328988552\n",
            "epoch 7, loss 0.001566565129905939\n",
            "epoch 7, loss 0.004790365695953369\n",
            "epoch 7, loss 0.012444104067981243\n",
            "\n",
            "Test set: Average loss: 0.07286071090698243, Accuracy: 0.9788\n",
            "\n",
            "epoch 8, loss 0.005017352756112814\n",
            "epoch 8, loss 0.0002557896077632904\n",
            "epoch 8, loss 0.0006973935524001718\n",
            "epoch 8, loss 0.05132284015417099\n",
            "epoch 8, loss 0.01164286769926548\n",
            "epoch 8, loss 0.000514151353854686\n",
            "epoch 8, loss 0.00030914839589968324\n",
            "epoch 8, loss 9.527370275463909e-05\n",
            "epoch 8, loss 0.0063596670515835285\n",
            "epoch 8, loss 0.0026740157045423985\n",
            "\n",
            "Test set: Average loss: 0.06077558798789978, Accuracy: 0.9823\n",
            "\n",
            "epoch 9, loss 0.0013310383073985577\n",
            "epoch 9, loss 0.004259465727955103\n",
            "epoch 9, loss 0.0013658091193065047\n",
            "epoch 9, loss 0.001409130753017962\n",
            "epoch 9, loss 0.01773844286799431\n",
            "epoch 9, loss 0.010642875917255878\n",
            "epoch 9, loss 0.0005517024546861649\n",
            "epoch 9, loss 0.0021582588087767363\n",
            "epoch 9, loss 0.013635668903589249\n",
            "epoch 9, loss 0.0018981876783072948\n",
            "\n",
            "Test set: Average loss: 0.0610456205368042, Accuracy: 0.9835\n",
            "\n",
            "epoch 10, loss 0.0020251020323485136\n",
            "epoch 10, loss 0.006088862195611\n",
            "epoch 10, loss 0.0013986401027068496\n",
            "epoch 10, loss 0.002090158872306347\n",
            "epoch 10, loss 0.001127534662373364\n",
            "epoch 10, loss 0.0016645293217152357\n",
            "epoch 10, loss 0.027408862486481667\n",
            "epoch 10, loss 0.0011108270846307278\n",
            "epoch 10, loss 0.001036844914779067\n",
            "epoch 10, loss 0.015435220673680305\n",
            "\n",
            "Test set: Average loss: 0.060464444351196286, Accuracy: 0.9835\n",
            "\n"
          ]
        }
      ],
      "source": [
        "model = Net()\n",
        "optimizer = optim.SGD(model.parameters(), lr=0.01, momentum=0.9)\n",
        "nb_epoch = 10\n",
        "for epoch in range(1, nb_epoch + 1):\n",
        "        # --- START CODE HERE\n",
        "        train(model, train_loader, optimizer, epoch)  # Train the model for one epoch\n",
        "        test(model, test_loader)  # Evaluate the model on the test data\n",
        "        # --- END CODE HERE"
      ]
    }
  ],
  "metadata": {
    "kernelspec": {
      "display_name": "Python 3",
      "language": "python",
      "name": "python3"
    },
    "language_info": {
      "codemirror_mode": {
        "name": "ipython",
        "version": 3
      },
      "file_extension": ".py",
      "mimetype": "text/x-python",
      "name": "python",
      "nbconvert_exporter": "python",
      "pygments_lexer": "ipython3",
      "version": "3.8.5"
    },
    "toc": {
      "base_numbering": 1,
      "nav_menu": {},
      "number_sections": true,
      "sideBar": true,
      "skip_h1_title": false,
      "title_cell": "Table of Contents",
      "title_sidebar": "Contents",
      "toc_cell": false,
      "toc_position": {
        "height": "calc(100% - 180px)",
        "left": "10px",
        "top": "150px",
        "width": "165px"
      },
      "toc_section_display": true,
      "toc_window_display": false
    },
    "colab": {
      "provenance": []
    }
  },
  "nbformat": 4,
  "nbformat_minor": 0
}